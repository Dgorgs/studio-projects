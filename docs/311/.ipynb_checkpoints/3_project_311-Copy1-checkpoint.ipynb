{
 "cells": [
  {
   "cell_type": "code",
   "execution_count": 1,
   "metadata": {},
   "outputs": [
    {
     "name": "stdout",
     "output_type": "stream",
     "text": [
      "311_Service_Requests_from_2015.csv  3_project_311.ipynb\r\n",
      "3_project_311-Copy1.ipynb           Untitled.ipynb\r\n"
     ]
    }
   ],
   "source": [
    "ls"
   ]
  },
  {
   "cell_type": "code",
   "execution_count": 30,
   "metadata": {
    "collapsed": true
   },
   "outputs": [],
   "source": [
    "import pandas as pd\n",
    "import geopandas as gpd\n",
    "import numpy as np\n",
    "%matplotlib inline\n",
    "import datetime\n",
    "from shapely.geometry import Point \n",
    "from shapely.geometry import Polygon\n",
    "from matplotlib.colors import ListedColormap\n",
    "import re\n",
    "import matplotlib.pyplot as plt\n",
    "plt.style.use('ggplot')"
   ]
  },
  {
   "cell_type": "code",
   "execution_count": 31,
   "metadata": {},
   "outputs": [
    {
     "name": "stderr",
     "output_type": "stream",
     "text": [
      "/usr/local/lib/python3.6/site-packages/IPython/core/interactiveshell.py:2683: DtypeWarning: Columns (8,17,40,41,42,43,44,45,46,47,48,49) have mixed types. Specify dtype option on import or set low_memory=False.\n",
      "  interactivity=interactivity, compiler=compiler, result=result)\n"
     ]
    }
   ],
   "source": [
    "df = pd.read_csv(\"311_Service_Requests_from_2015.csv\")"
   ]
  },
  {
   "cell_type": "code",
   "execution_count": 32,
   "metadata": {},
   "outputs": [
    {
     "data": {
      "text/html": [
       "<div>\n",
       "<style>\n",
       "    .dataframe thead tr:only-child th {\n",
       "        text-align: right;\n",
       "    }\n",
       "\n",
       "    .dataframe thead th {\n",
       "        text-align: left;\n",
       "    }\n",
       "\n",
       "    .dataframe tbody tr th {\n",
       "        vertical-align: top;\n",
       "    }\n",
       "</style>\n",
       "<table border=\"1\" class=\"dataframe\">\n",
       "  <thead>\n",
       "    <tr style=\"text-align: right;\">\n",
       "      <th></th>\n",
       "      <th>Unique Key</th>\n",
       "      <th>Created Date</th>\n",
       "      <th>Closed Date</th>\n",
       "      <th>Agency</th>\n",
       "      <th>Agency Name</th>\n",
       "      <th>Complaint Type</th>\n",
       "      <th>Descriptor</th>\n",
       "      <th>Location Type</th>\n",
       "      <th>Incident Zip</th>\n",
       "      <th>Incident Address</th>\n",
       "      <th>...</th>\n",
       "      <th>Bridge Highway Name</th>\n",
       "      <th>Bridge Highway Direction</th>\n",
       "      <th>Road Ramp</th>\n",
       "      <th>Bridge Highway Segment</th>\n",
       "      <th>Garage Lot Name</th>\n",
       "      <th>Ferry Direction</th>\n",
       "      <th>Ferry Terminal Name</th>\n",
       "      <th>Latitude</th>\n",
       "      <th>Longitude</th>\n",
       "      <th>Location</th>\n",
       "    </tr>\n",
       "  </thead>\n",
       "  <tbody>\n",
       "    <tr>\n",
       "      <th>0</th>\n",
       "      <td>31015465</td>\n",
       "      <td>07/06/2015 10:58:27 AM</td>\n",
       "      <td>07/22/2015 01:07:20 AM</td>\n",
       "      <td>DCA</td>\n",
       "      <td>Department of Consumer Affairs</td>\n",
       "      <td>Consumer Complaint</td>\n",
       "      <td>Demand for Cash</td>\n",
       "      <td>NaN</td>\n",
       "      <td>11360</td>\n",
       "      <td>27-16 203 STREET</td>\n",
       "      <td>...</td>\n",
       "      <td>NaN</td>\n",
       "      <td>NaN</td>\n",
       "      <td>NaN</td>\n",
       "      <td>NaN</td>\n",
       "      <td>NaN</td>\n",
       "      <td>NaN</td>\n",
       "      <td>NaN</td>\n",
       "      <td>40.773540</td>\n",
       "      <td>-73.788237</td>\n",
       "      <td>(40.773539552542, -73.78823697228408)</td>\n",
       "    </tr>\n",
       "    <tr>\n",
       "      <th>1</th>\n",
       "      <td>30997660</td>\n",
       "      <td>07/03/2015 01:26:29 PM</td>\n",
       "      <td>07/03/2015 02:08:20 PM</td>\n",
       "      <td>NYPD</td>\n",
       "      <td>New York City Police Department</td>\n",
       "      <td>Vending</td>\n",
       "      <td>In Prohibited Area</td>\n",
       "      <td>Residential Building/House</td>\n",
       "      <td>10019</td>\n",
       "      <td>200 CENTRAL PARK SOUTH</td>\n",
       "      <td>...</td>\n",
       "      <td>NaN</td>\n",
       "      <td>NaN</td>\n",
       "      <td>NaN</td>\n",
       "      <td>NaN</td>\n",
       "      <td>NaN</td>\n",
       "      <td>NaN</td>\n",
       "      <td>NaN</td>\n",
       "      <td>40.767021</td>\n",
       "      <td>-73.979448</td>\n",
       "      <td>(40.76702142171206, -73.97944780718524)</td>\n",
       "    </tr>\n",
       "    <tr>\n",
       "      <th>2</th>\n",
       "      <td>31950223</td>\n",
       "      <td>11/09/2015 03:55:09 AM</td>\n",
       "      <td>11/09/2015 08:08:57 AM</td>\n",
       "      <td>NYPD</td>\n",
       "      <td>New York City Police Department</td>\n",
       "      <td>Blocked Driveway</td>\n",
       "      <td>No Access</td>\n",
       "      <td>Street/Sidewalk</td>\n",
       "      <td>10453</td>\n",
       "      <td>1993 GRAND AVENUE</td>\n",
       "      <td>...</td>\n",
       "      <td>NaN</td>\n",
       "      <td>NaN</td>\n",
       "      <td>NaN</td>\n",
       "      <td>NaN</td>\n",
       "      <td>NaN</td>\n",
       "      <td>NaN</td>\n",
       "      <td>NaN</td>\n",
       "      <td>40.852671</td>\n",
       "      <td>-73.910608</td>\n",
       "      <td>(40.85267061877697, -73.91060771362552)</td>\n",
       "    </tr>\n",
       "    <tr>\n",
       "      <th>3</th>\n",
       "      <td>31000038</td>\n",
       "      <td>07/03/2015 02:18:32 AM</td>\n",
       "      <td>07/03/2015 07:54:48 AM</td>\n",
       "      <td>NYPD</td>\n",
       "      <td>New York City Police Department</td>\n",
       "      <td>Noise - Commercial</td>\n",
       "      <td>Loud Music/Party</td>\n",
       "      <td>Club/Bar/Restaurant</td>\n",
       "      <td>11372</td>\n",
       "      <td>84-16 NORTHERN BOULEVARD</td>\n",
       "      <td>...</td>\n",
       "      <td>NaN</td>\n",
       "      <td>NaN</td>\n",
       "      <td>NaN</td>\n",
       "      <td>NaN</td>\n",
       "      <td>NaN</td>\n",
       "      <td>NaN</td>\n",
       "      <td>NaN</td>\n",
       "      <td>40.755774</td>\n",
       "      <td>-73.883262</td>\n",
       "      <td>(40.755773786469966, -73.88326243225418)</td>\n",
       "    </tr>\n",
       "    <tr>\n",
       "      <th>4</th>\n",
       "      <td>30995614</td>\n",
       "      <td>07/04/2015 12:03:27 AM</td>\n",
       "      <td>07/04/2015 03:33:09 AM</td>\n",
       "      <td>NYPD</td>\n",
       "      <td>New York City Police Department</td>\n",
       "      <td>Noise - Street/Sidewalk</td>\n",
       "      <td>Loud Talking</td>\n",
       "      <td>Street/Sidewalk</td>\n",
       "      <td>11216</td>\n",
       "      <td>1057 BERGEN STREET</td>\n",
       "      <td>...</td>\n",
       "      <td>NaN</td>\n",
       "      <td>NaN</td>\n",
       "      <td>NaN</td>\n",
       "      <td>NaN</td>\n",
       "      <td>NaN</td>\n",
       "      <td>NaN</td>\n",
       "      <td>NaN</td>\n",
       "      <td>40.676175</td>\n",
       "      <td>-73.951269</td>\n",
       "      <td>(40.67617516102934, -73.9512690004692)</td>\n",
       "    </tr>\n",
       "  </tbody>\n",
       "</table>\n",
       "<p>5 rows × 53 columns</p>\n",
       "</div>"
      ],
      "text/plain": [
       "   Unique Key            Created Date             Closed Date Agency  \\\n",
       "0    31015465  07/06/2015 10:58:27 AM  07/22/2015 01:07:20 AM    DCA   \n",
       "1    30997660  07/03/2015 01:26:29 PM  07/03/2015 02:08:20 PM   NYPD   \n",
       "2    31950223  11/09/2015 03:55:09 AM  11/09/2015 08:08:57 AM   NYPD   \n",
       "3    31000038  07/03/2015 02:18:32 AM  07/03/2015 07:54:48 AM   NYPD   \n",
       "4    30995614  07/04/2015 12:03:27 AM  07/04/2015 03:33:09 AM   NYPD   \n",
       "\n",
       "                       Agency Name           Complaint Type  \\\n",
       "0   Department of Consumer Affairs       Consumer Complaint   \n",
       "1  New York City Police Department                  Vending   \n",
       "2  New York City Police Department         Blocked Driveway   \n",
       "3  New York City Police Department       Noise - Commercial   \n",
       "4  New York City Police Department  Noise - Street/Sidewalk   \n",
       "\n",
       "           Descriptor               Location Type Incident Zip  \\\n",
       "0     Demand for Cash                         NaN        11360   \n",
       "1  In Prohibited Area  Residential Building/House        10019   \n",
       "2           No Access             Street/Sidewalk        10453   \n",
       "3    Loud Music/Party         Club/Bar/Restaurant        11372   \n",
       "4        Loud Talking             Street/Sidewalk        11216   \n",
       "\n",
       "           Incident Address                    ...                     \\\n",
       "0          27-16 203 STREET                    ...                      \n",
       "1    200 CENTRAL PARK SOUTH                    ...                      \n",
       "2         1993 GRAND AVENUE                    ...                      \n",
       "3  84-16 NORTHERN BOULEVARD                    ...                      \n",
       "4        1057 BERGEN STREET                    ...                      \n",
       "\n",
       "  Bridge Highway Name Bridge Highway Direction Road Ramp  \\\n",
       "0                 NaN                      NaN       NaN   \n",
       "1                 NaN                      NaN       NaN   \n",
       "2                 NaN                      NaN       NaN   \n",
       "3                 NaN                      NaN       NaN   \n",
       "4                 NaN                      NaN       NaN   \n",
       "\n",
       "  Bridge Highway Segment Garage Lot Name Ferry Direction Ferry Terminal Name  \\\n",
       "0                    NaN             NaN             NaN                 NaN   \n",
       "1                    NaN             NaN             NaN                 NaN   \n",
       "2                    NaN             NaN             NaN                 NaN   \n",
       "3                    NaN             NaN             NaN                 NaN   \n",
       "4                    NaN             NaN             NaN                 NaN   \n",
       "\n",
       "    Latitude  Longitude                                  Location  \n",
       "0  40.773540 -73.788237     (40.773539552542, -73.78823697228408)  \n",
       "1  40.767021 -73.979448   (40.76702142171206, -73.97944780718524)  \n",
       "2  40.852671 -73.910608   (40.85267061877697, -73.91060771362552)  \n",
       "3  40.755774 -73.883262  (40.755773786469966, -73.88326243225418)  \n",
       "4  40.676175 -73.951269    (40.67617516102934, -73.9512690004692)  \n",
       "\n",
       "[5 rows x 53 columns]"
      ]
     },
     "execution_count": 32,
     "metadata": {},
     "output_type": "execute_result"
    }
   ],
   "source": [
    "df.head()"
   ]
  },
  {
   "cell_type": "code",
   "execution_count": 40,
   "metadata": {},
   "outputs": [
    {
     "data": {
      "text/plain": [
       "{'AGENCY',\n",
       " 'APPLIANCE',\n",
       " 'Adopt-A-Basket',\n",
       " 'Advocate - Other',\n",
       " 'Advocate - RPIE',\n",
       " 'Advocate-Commercial Exemptions',\n",
       " 'Advocate-Personal Exemptions',\n",
       " 'Advocate-Prop Class Incorrect',\n",
       " 'Advocate-SCRIE/DRIE',\n",
       " 'Agency Issues',\n",
       " 'Air Quality',\n",
       " \"Alzheimer's Care\",\n",
       " 'Animal Abuse',\n",
       " 'Animal Facility - No Permit',\n",
       " 'Animal in a Park',\n",
       " 'Asbestos',\n",
       " 'BEST/Site Safety',\n",
       " 'Beach/Pool/Sauna Complaint',\n",
       " 'Benefit Card Replacement',\n",
       " 'Bereavement Support Group',\n",
       " 'Bike Rack Condition',\n",
       " 'Bike/Roller/Skate Chronic',\n",
       " 'Blocked Driveway',\n",
       " 'Boilers',\n",
       " 'Bottled Water',\n",
       " 'Bridge Condition',\n",
       " 'Broken Muni Meter',\n",
       " 'Broken Parking Meter',\n",
       " 'Building Condition',\n",
       " 'Building/Use',\n",
       " 'Bus Stop Shelter Placement',\n",
       " 'Calorie Labeling',\n",
       " 'Case Management Agency Complaint',\n",
       " 'City Vehicle Placard Complaint',\n",
       " 'Collection Truck Noise',\n",
       " 'Complaint',\n",
       " 'Compliment',\n",
       " 'Construction',\n",
       " 'Consumer Complaint',\n",
       " 'Cranes and Derricks',\n",
       " 'Curb Condition',\n",
       " 'DCA / DOH New License Application Request',\n",
       " 'DCA Literature Request',\n",
       " 'DEP Literature Request',\n",
       " 'DFTA Literature Request',\n",
       " 'DHS Income Savings Requirement',\n",
       " 'DOF Literature Request',\n",
       " 'DOF Parking - DMV Clearance',\n",
       " 'DOF Parking - Payment Issue',\n",
       " 'DOF Parking - Request Copy',\n",
       " 'DOF Parking - Request Status',\n",
       " 'DOF Parking - Tax Exemption',\n",
       " 'DOF Property - City Rebate',\n",
       " 'DOF Property - Owner Issue',\n",
       " 'DOF Property - Payment Issue',\n",
       " 'DOF Property - Property Value',\n",
       " 'DOF Property - RPIE Issue',\n",
       " 'DOF Property - Reduction Issue',\n",
       " 'DOF Property - Request Copy',\n",
       " 'DOF Property - Update Account',\n",
       " 'DOOR/WINDOW',\n",
       " 'DOT Literature Request',\n",
       " 'DPR Internal',\n",
       " 'DPR Literature Request',\n",
       " 'Damaged Tree',\n",
       " 'Day Care',\n",
       " 'Dead Tree',\n",
       " 'Derelict Bicycle',\n",
       " 'Derelict Vehicle',\n",
       " 'Derelict Vehicles',\n",
       " 'Dirty Conditions',\n",
       " 'Disorderly Youth',\n",
       " 'Drinking',\n",
       " 'Drinking Water',\n",
       " 'EAP Inspection - F59',\n",
       " 'ELECTRIC',\n",
       " 'ELEVATOR',\n",
       " 'Elder Abuse',\n",
       " 'Electrical',\n",
       " 'Elevator',\n",
       " 'Emergency Response Team (ERT)',\n",
       " 'FLOORING/STAIRS',\n",
       " 'Ferry Complaint',\n",
       " 'Ferry Inquiry',\n",
       " 'Ferry Permit',\n",
       " 'Fire Alarm - Addition',\n",
       " 'Fire Alarm - Modification',\n",
       " 'Fire Alarm - New System',\n",
       " 'Fire Alarm - Reinspection',\n",
       " 'Fire Alarm - Replacement',\n",
       " 'Fire Safety Director - F58',\n",
       " 'Foam Ban Enforcement',\n",
       " 'Food Establishment',\n",
       " 'Food Poisoning',\n",
       " 'For Hire Vehicle Complaint',\n",
       " 'For Hire Vehicle Report',\n",
       " 'Forensic Engineering',\n",
       " 'Found Property',\n",
       " 'GENERAL',\n",
       " 'Gas Station Discharge Lines',\n",
       " 'General Construction/Plumbing',\n",
       " 'Graffiti',\n",
       " 'HEAT/HOT WATER',\n",
       " 'HPD Literature Request',\n",
       " 'Harboring Bees/Wasps',\n",
       " 'Hazardous Materials',\n",
       " 'Hazmat Storage/Use',\n",
       " 'Highway Condition',\n",
       " 'Highway Sign - Damaged',\n",
       " 'Highway Sign - Dangling',\n",
       " 'Highway Sign - Missing',\n",
       " 'Home Care Provider Complaint',\n",
       " 'Home Delivered Meal - Missed Delivery',\n",
       " 'Home Delivered Meal Complaint',\n",
       " 'Homeless Encampment',\n",
       " 'Homeless Person Assistance',\n",
       " 'Housing - Low Income Senior',\n",
       " 'Housing Options',\n",
       " 'Illegal Animal Kept as Pet',\n",
       " 'Illegal Animal Sold',\n",
       " 'Illegal Fireworks',\n",
       " 'Illegal Parking',\n",
       " 'Illegal Tree Damage',\n",
       " 'Indoor Air Quality',\n",
       " 'Indoor Sewage',\n",
       " 'Industrial Waste',\n",
       " 'Interior Demo',\n",
       " 'Investigations and Discipline (IAD)',\n",
       " 'Invitation',\n",
       " 'Laboratory',\n",
       " 'Lead',\n",
       " 'Legal Services Provider Complaint',\n",
       " 'Lifeguard',\n",
       " 'Literature Request',\n",
       " 'Litter Basket / Request',\n",
       " 'Maintenance or Facility',\n",
       " 'Misc. Comments',\n",
       " 'Miscellaneous Categories',\n",
       " 'Missed Collection (All Materials)',\n",
       " 'Mold',\n",
       " 'Municipal Parking Facility',\n",
       " 'NORC Complaint',\n",
       " 'New Tree Request',\n",
       " 'Noise',\n",
       " 'Noise - Commercial',\n",
       " 'Noise - Helicopter',\n",
       " 'Noise - House of Worship',\n",
       " 'Noise - Park',\n",
       " 'Noise - Residential',\n",
       " 'Noise - Street/Sidewalk',\n",
       " 'Noise - Vehicle',\n",
       " 'Non-Emergency Police Matter',\n",
       " 'Non-Residential Heat',\n",
       " 'OEM Literature Request',\n",
       " 'OUTSIDE BUILDING',\n",
       " 'Open Flame Permit',\n",
       " 'Other Enforcement',\n",
       " 'Overflowing Litter Baskets',\n",
       " 'Overflowing Recycling Baskets',\n",
       " 'Overgrown Tree/Branches',\n",
       " 'PAINT/PLASTER',\n",
       " 'PLUMBING',\n",
       " 'Panhandling',\n",
       " 'Parking Card',\n",
       " 'Plant',\n",
       " 'Plumbing',\n",
       " 'Poison Ivy',\n",
       " 'Posting Advertisement',\n",
       " 'Public Assembly',\n",
       " 'Public Assembly - Temporary',\n",
       " 'Public Payphone Complaint',\n",
       " 'Public Toilet',\n",
       " 'Radioactive Material',\n",
       " 'Rangehood',\n",
       " 'Recycling Enforcement',\n",
       " 'Request for Information',\n",
       " 'Rodent',\n",
       " 'Root/Sewer/Sidewalk Condition',\n",
       " 'SAFETY',\n",
       " 'SCRIE',\n",
       " 'SRDE',\n",
       " 'Sanitation Condition',\n",
       " 'Scaffold Safety',\n",
       " 'School Maintenance',\n",
       " 'Senior Center Complaint',\n",
       " 'Sewer',\n",
       " 'Sidewalk Condition',\n",
       " 'Smoking',\n",
       " 'Snow',\n",
       " 'Special Enforcement',\n",
       " 'Special Natural Area District (SNAD)',\n",
       " 'Special Projects Inspection Team (SPIT)',\n",
       " 'Sprinkler - Mechanical',\n",
       " 'Squeegee',\n",
       " 'Stalled Sites',\n",
       " 'Standing Water',\n",
       " 'Standpipe - Mechanical',\n",
       " 'Street Condition',\n",
       " 'Street Light Condition',\n",
       " 'Street Sign - Damaged',\n",
       " 'Street Sign - Dangling',\n",
       " 'Street Sign - Missing',\n",
       " 'Sweeping/Inadequate',\n",
       " 'Sweeping/Missed',\n",
       " 'Tanning',\n",
       " 'Tattooing',\n",
       " 'Taxi Complaint',\n",
       " 'Taxi Compliment',\n",
       " 'Taxi Report',\n",
       " 'Taxpayer Advocate Inquiry',\n",
       " 'Traffic',\n",
       " 'Traffic Signal Condition',\n",
       " 'Transportation Provider Complaint',\n",
       " 'Tunnel Condition',\n",
       " 'UNSANITARY CONDITION',\n",
       " 'Unleashed Dog',\n",
       " 'Unsanitary Animal Facility',\n",
       " 'Unsanitary Animal Pvt Property',\n",
       " 'Unsanitary Pigeon Condition',\n",
       " 'Unspecified',\n",
       " 'Urinating in Public',\n",
       " 'VACANT APARTMENT',\n",
       " 'Vacant Lot',\n",
       " 'Vending',\n",
       " 'Violation of Park Rules',\n",
       " 'WATER LEAK',\n",
       " 'Water Conservation',\n",
       " 'Water Quality',\n",
       " 'Water System',\n",
       " 'Window Guard',\n",
       " 'X-Ray Machine/Equipment'}"
      ]
     },
     "execution_count": 40,
     "metadata": {},
     "output_type": "execute_result"
    }
   ],
   "source": [
    "set(df['Complaint Type'])"
   ]
  },
  {
   "cell_type": "code",
   "execution_count": 41,
   "metadata": {},
   "outputs": [],
   "source": [
    "noise_all = df[(df['Complaint Type'] == \"Noise -  Residential\") | (df['Complaint Type'] == \"Noise\") | (df['Complaint Type'] == \"Noise - Commercial\")]\n"
   ]
  },
  {
   "cell_type": "code",
   "execution_count": null,
   "metadata": {},
   "outputs": [],
   "source": []
  },
  {
   "cell_type": "markdown",
   "metadata": {},
   "source": [
    "# Jetzt erst mal die einfache Version: "
   ]
  },
  {
   "cell_type": "code",
   "execution_count": 34,
   "metadata": {},
   "outputs": [
    {
     "ename": "AttributeError",
     "evalue": "'Int64Index' object has no attribute 'hour'",
     "output_type": "error",
     "traceback": [
      "\u001b[0;31m---------------------------------------------------------------------------\u001b[0m",
      "\u001b[0;31mAttributeError\u001b[0m                            Traceback (most recent call last)",
      "\u001b[0;32m<ipython-input-34-a53a9eaf7d70>\u001b[0m in \u001b[0;36m<module>\u001b[0;34m()\u001b[0m\n\u001b[1;32m      1\u001b[0m \u001b[0mloud_parties\u001b[0m \u001b[0;34m=\u001b[0m \u001b[0mdf\u001b[0m\u001b[0;34m[\u001b[0m\u001b[0mdf\u001b[0m\u001b[0;34m[\u001b[0m\u001b[0;34m'Descriptor'\u001b[0m\u001b[0;34m]\u001b[0m \u001b[0;34m==\u001b[0m \u001b[0;34m'Loud Music/Party'\u001b[0m\u001b[0;34m]\u001b[0m\u001b[0;34m\u001b[0m\u001b[0m\n\u001b[0;32m----> 2\u001b[0;31m \u001b[0mloud_parties\u001b[0m\u001b[0;34m.\u001b[0m\u001b[0mgroupby\u001b[0m\u001b[0;34m(\u001b[0m\u001b[0mloud_parties\u001b[0m\u001b[0;34m.\u001b[0m\u001b[0mindex\u001b[0m\u001b[0;34m.\u001b[0m\u001b[0mhour\u001b[0m\u001b[0;34m)\u001b[0m\u001b[0;34m[\u001b[0m\u001b[0;34m'Created Date'\u001b[0m\u001b[0;34m]\u001b[0m\u001b[0;34m.\u001b[0m\u001b[0mcount\u001b[0m\u001b[0;34m(\u001b[0m\u001b[0;34m)\u001b[0m\u001b[0;34m.\u001b[0m\u001b[0mplot\u001b[0m\u001b[0;34m(\u001b[0m\u001b[0my\u001b[0m\u001b[0;34m=\u001b[0m\u001b[0;34m'Created Date'\u001b[0m\u001b[0;34m)\u001b[0m\u001b[0;34m\u001b[0m\u001b[0m\n\u001b[0m",
      "\u001b[0;31mAttributeError\u001b[0m: 'Int64Index' object has no attribute 'hour'"
     ]
    }
   ],
   "source": [
    "loud_parties = df[df['Descriptor'] == 'Loud Music/Party']\n",
    "loud_parties.groupby(loud_parties.index.hour)['Created Date'].count().plot(y='Created Date')"
   ]
  },
  {
   "cell_type": "code",
   "execution_count": 308,
   "metadata": {},
   "outputs": [
    {
     "data": {
      "text/plain": [
       "<matplotlib.axes._subplots.AxesSubplot at 0x52218f978>"
      ]
     },
     "execution_count": 308,
     "metadata": {},
     "output_type": "execute_result"
    },
    {
     "data": {
      "image/png": "[encoded data removed]",
      "text/plain": [
       "<matplotlib.figure.Figure at 0x5227a8f98>"
      ]
     },
     "metadata": {},
     "output_type": "display_data"
    }
   ],
   "source": [
    "banging = requests[requests['Descriptor'] == 'Banging/Pounding']\n",
    "banging.groupby(banging.index.hour)['Created Date'].count().plot(y='Created Date')"
   ]
  },
  {
   "cell_type": "code",
   "execution_count": 309,
   "metadata": {},
   "outputs": [
    {
     "data": {
      "text/plain": [
       "<matplotlib.axes._subplots.AxesSubplot at 0x52a0d69e8>"
      ]
     },
     "execution_count": 309,
     "metadata": {},
     "output_type": "execute_result"
    },
    {
     "data": {
      "image/png": "[encoded data removed]",
      "text/plain": [
       "<matplotlib.figure.Figure at 0x52acf7e48>"
      ]
     },
     "metadata": {},
     "output_type": "display_data"
    }
   ],
   "source": [
    "loud_talking = requests[requests['Descriptor'] == 'Loud Talking']\n",
    "loud_talking.groupby(loud_talking.index.hour)['Created Date'].count().plot(y='Created Date')"
   ]
  },
  {
   "cell_type": "code",
   "execution_count": 310,
   "metadata": {},
   "outputs": [
    {
     "data": {
      "text/plain": [
       "<matplotlib.axes._subplots.AxesSubplot at 0x2497afdd8>"
      ]
     },
     "execution_count": 310,
     "metadata": {},
     "output_type": "execute_result"
    },
    {
     "data": {
      "image/png": "[encoded data removed]",
      "text/plain": [
       "<matplotlib.figure.Figure at 0x5c7fa3f28>"
      ]
     },
     "metadata": {},
     "output_type": "display_data"
    }
   ],
   "source": [
    "loud_television = requests[requests['Descriptor'] == 'Loud Television']\n",
    "loud_television.groupby(loud_television.index.hour)['Created Date'].count().plot(y='Created Date')"
   ]
  },
  {
   "cell_type": "code",
   "execution_count": null,
   "metadata": {
    "collapsed": true
   },
   "outputs": [],
   "source": []
  },
  {
   "cell_type": "code",
   "execution_count": null,
   "metadata": {
    "collapsed": true
   },
   "outputs": [],
   "source": []
  },
  {
   "cell_type": "code",
   "execution_count": null,
   "metadata": {
    "collapsed": true
   },
   "outputs": [],
   "source": []
  },
  {
   "cell_type": "code",
   "execution_count": null,
   "metadata": {
    "collapsed": true
   },
   "outputs": [],
   "source": []
  },
  {
   "cell_type": "code",
   "execution_count": 311,
   "metadata": {
    "collapsed": true
   },
   "outputs": [],
   "source": [
    "#requests.groupby(requests.index.hour)['Created Date'].count().plot()"
   ]
  },
  {
   "cell_type": "code",
   "execution_count": 216,
   "metadata": {
    "collapsed": true
   },
   "outputs": [],
   "source": [
    "#pothole = requests[requests['Descriptor'] == 'Pothole']\n",
    "#pothole.groupby(pothole.index.hour)['Created Date'].count().plot(y='Created Date')"
   ]
  },
  {
   "cell_type": "code",
   "execution_count": 221,
   "metadata": {},
   "outputs": [
    {
     "data": {
      "text/html": [
       "<div>\n",
       "<style>\n",
       "    .dataframe thead tr:only-child th {\n",
       "        text-align: right;\n",
       "    }\n",
       "\n",
       "    .dataframe thead th {\n",
       "        text-align: left;\n",
       "    }\n",
       "\n",
       "    .dataframe tbody tr th {\n",
       "        vertical-align: top;\n",
       "    }\n",
       "</style>\n",
       "<table border=\"1\" class=\"dataframe\">\n",
       "  <thead>\n",
       "    <tr style=\"text-align: right;\">\n",
       "      <th></th>\n",
       "      <th>Unique Key</th>\n",
       "      <th>Created Date</th>\n",
       "      <th>Closed Date</th>\n",
       "      <th>Agency</th>\n",
       "      <th>Agency Name</th>\n",
       "      <th>Complaint Type</th>\n",
       "      <th>Descriptor</th>\n",
       "      <th>Location Type</th>\n",
       "      <th>Incident Zip</th>\n",
       "      <th>Incident Address</th>\n",
       "      <th>...</th>\n",
       "      <th>Bridge Highway Direction</th>\n",
       "      <th>Road Ramp</th>\n",
       "      <th>Bridge Highway Segment</th>\n",
       "      <th>Garage Lot Name</th>\n",
       "      <th>Ferry Direction</th>\n",
       "      <th>Ferry Terminal Name</th>\n",
       "      <th>Latitude</th>\n",
       "      <th>Longitude</th>\n",
       "      <th>Location</th>\n",
       "      <th>created_at</th>\n",
       "    </tr>\n",
       "    <tr>\n",
       "      <th>created_at</th>\n",
       "      <th></th>\n",
       "      <th></th>\n",
       "      <th></th>\n",
       "      <th></th>\n",
       "      <th></th>\n",
       "      <th></th>\n",
       "      <th></th>\n",
       "      <th></th>\n",
       "      <th></th>\n",
       "      <th></th>\n",
       "      <th></th>\n",
       "      <th></th>\n",
       "      <th></th>\n",
       "      <th></th>\n",
       "      <th></th>\n",
       "      <th></th>\n",
       "      <th></th>\n",
       "      <th></th>\n",
       "      <th></th>\n",
       "      <th></th>\n",
       "      <th></th>\n",
       "    </tr>\n",
       "  </thead>\n",
       "  <tbody>\n",
       "  </tbody>\n",
       "</table>\n",
       "<p>0 rows × 54 columns</p>\n",
       "</div>"
      ],
      "text/plain": [
       "Empty DataFrame\n",
       "Columns: [Unique Key, Created Date, Closed Date, Agency, Agency Name, Complaint Type, Descriptor, Location Type, Incident Zip, Incident Address, Street Name, Cross Street 1, Cross Street 2, Intersection Street 1, Intersection Street 2, Address Type, City, Landmark, Facility Type, Status, Due Date, Resolution Description, Resolution Action Updated Date, Community Board, Borough, X Coordinate (State Plane), Y Coordinate (State Plane), Park Facility Name, Park Borough, School Name, School Number, School Region, School Code, School Phone Number, School Address, School City, School State, School Zip, School Not Found, School or Citywide Complaint, Vehicle Type, Taxi Company Borough, Taxi Pick Up Location, Bridge Highway Name, Bridge Highway Direction, Road Ramp, Bridge Highway Segment, Garage Lot Name, Ferry Direction, Ferry Terminal Name, Latitude, Longitude, Location, created_at]\n",
       "Index: []\n",
       "\n",
       "[0 rows x 54 columns]"
      ]
     },
     "execution_count": 221,
     "metadata": {},
     "output_type": "execute_result"
    }
   ],
   "source": [
    "#requests[(requests[\"created_at\"] == '06/30/2015 12:56:39 AM') & (requests[\"created_at\"] == '06/30/2015 12:59:52 PM')]\n",
    "\n",
    "#requests_june = requests[(requests[\"created_at\"] > '06/01/2015') & (requests[\"created_at\"] < '06/31/2015')] \n",
    "#'fragen'"
   ]
  },
  {
   "cell_type": "code",
   "execution_count": null,
   "metadata": {
    "collapsed": true
   },
   "outputs": [],
   "source": []
  },
  {
   "cell_type": "code",
   "execution_count": null,
   "metadata": {
    "collapsed": true
   },
   "outputs": [],
   "source": []
  },
  {
   "cell_type": "code",
   "execution_count": null,
   "metadata": {
    "collapsed": true
   },
   "outputs": [],
   "source": []
  },
  {
   "cell_type": "code",
   "execution_count": null,
   "metadata": {
    "collapsed": true
   },
   "outputs": [],
   "source": []
  },
  {
   "cell_type": "code",
   "execution_count": null,
   "metadata": {
    "collapsed": true
   },
   "outputs": [],
   "source": []
  }
 ],
 "metadata": {
  "kernelspec": {
   "display_name": "Python 3",
   "language": "python",
   "name": "python3"
  },
  "language_info": {
   "codemirror_mode": {
    "name": "ipython",
    "version": 3
   },
   "file_extension": ".py",
   "mimetype": "text/x-python",
   "name": "python",
   "nbconvert_exporter": "python",
   "pygments_lexer": "ipython3",
   "version": "3.6.1"
  }
 },
 "nbformat": 4,
 "nbformat_minor": 2
}
