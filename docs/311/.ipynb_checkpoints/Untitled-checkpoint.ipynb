{
 "cells": [
  {
   "cell_type": "code",
   "execution_count": 1,
   "metadata": {
    "collapsed": true
   },
   "outputs": [],
   "source": [
    "import pandas as pd\n",
    "import geopandas as gpd\n",
    "import numpy as np\n",
    "%matplotlib inline\n",
    "import datetime\n",
    "from shapely.geometry import Point \n",
    "from shapely.geometry import Polygon\n",
    "from matplotlib.colors import ListedColormap\n",
    "import re\n",
    "import matplotlib.pyplot as plt"
   ]
  },
  {
   "cell_type": "code",
   "execution_count": 2,
   "metadata": {},
   "outputs": [
    {
     "name": "stderr",
     "output_type": "stream",
     "text": [
      "/usr/local/lib/python3.6/site-packages/IPython/core/interactiveshell.py:2683: DtypeWarning: Columns (8,17,40,41,42,43,44,45,46,47,48,49) have mixed types. Specify dtype option on import or set low_memory=False.\n",
      "  interactivity=interactivity, compiler=compiler, result=result)\n"
     ]
    }
   ],
   "source": [
    "requests = pd.read_csv(\"311_Service_Requests_from_2015.csv\")"
   ]
  },
  {
   "cell_type": "code",
   "execution_count": 3,
   "metadata": {},
   "outputs": [
    {
     "data": {
      "text/plain": [
       "Index(['Unique Key', 'Created Date', 'Closed Date', 'Agency', 'Agency Name',\n",
       "       'Complaint Type', 'Descriptor', 'Location Type', 'Incident Zip',\n",
       "       'Incident Address', 'Street Name', 'Cross Street 1', 'Cross Street 2',\n",
       "       'Intersection Street 1', 'Intersection Street 2', 'Address Type',\n",
       "       'City', 'Landmark', 'Facility Type', 'Status', 'Due Date',\n",
       "       'Resolution Description', 'Resolution Action Updated Date',\n",
       "       'Community Board', 'Borough', 'X Coordinate (State Plane)',\n",
       "       'Y Coordinate (State Plane)', 'Park Facility Name', 'Park Borough',\n",
       "       'School Name', 'School Number', 'School Region', 'School Code',\n",
       "       'School Phone Number', 'School Address', 'School City', 'School State',\n",
       "       'School Zip', 'School Not Found', 'School or Citywide Complaint',\n",
       "       'Vehicle Type', 'Taxi Company Borough', 'Taxi Pick Up Location',\n",
       "       'Bridge Highway Name', 'Bridge Highway Direction', 'Road Ramp',\n",
       "       'Bridge Highway Segment', 'Garage Lot Name', 'Ferry Direction',\n",
       "       'Ferry Terminal Name', 'Latitude', 'Longitude', 'Location'],\n",
       "      dtype='object')"
      ]
     },
     "execution_count": 3,
     "metadata": {},
     "output_type": "execute_result"
    }
   ],
   "source": [
    "requests.columns"
   ]
  },
  {
   "cell_type": "code",
   "execution_count": 4,
   "metadata": {},
   "outputs": [
    {
     "data": {
      "text/plain": [
       "HEAT/HOT WATER            225083\n",
       "Noise - Residential       207390\n",
       "Street Condition          124257\n",
       "Blocked Driveway          100569\n",
       "Street Light Condition     98027\n",
       "Name: Complaint Type, dtype: int64"
      ]
     },
     "execution_count": 4,
     "metadata": {},
     "output_type": "execute_result"
    }
   ],
   "source": [
    "requests['Complaint Type'].value_counts().head()"
   ]
  },
  {
   "cell_type": "code",
   "execution_count": 5,
   "metadata": {},
   "outputs": [
    {
     "data": {
      "text/plain": [
       "0            DCA\n",
       "1           NYPD\n",
       "2           NYPD\n",
       "3           NYPD\n",
       "4           NYPD\n",
       "5          DOHMH\n",
       "6            DPR\n",
       "7          DOHMH\n",
       "8            DCA\n",
       "9           NYPD\n",
       "10           DPR\n",
       "11           DPR\n",
       "12           DOB\n",
       "13           DPR\n",
       "14          NYPD\n",
       "15           DOT\n",
       "16          NYPD\n",
       "17          NYPD\n",
       "18         DOHMH\n",
       "19          NYPD\n",
       "20          NYPD\n",
       "21          NYPD\n",
       "22          NYPD\n",
       "23          NYPD\n",
       "24          NYPD\n",
       "25          DSNY\n",
       "26           DPR\n",
       "27           DPR\n",
       "28           DCA\n",
       "29           DPR\n",
       "           ...  \n",
       "2282063     NYPD\n",
       "2282064     NYPD\n",
       "2282065     NYPD\n",
       "2282066     NYPD\n",
       "2282067     NYPD\n",
       "2282068     NYPD\n",
       "2282069     NYPD\n",
       "2282070     NYPD\n",
       "2282071     NYPD\n",
       "2282072     NYPD\n",
       "2282073     NYPD\n",
       "2282074     NYPD\n",
       "2282075     NYPD\n",
       "2282076     NYPD\n",
       "2282077      DOF\n",
       "2282078      DOF\n",
       "2282079     DFTA\n",
       "2282080      DOF\n",
       "2282081     NYPD\n",
       "2282082      DPR\n",
       "2282083      DPR\n",
       "2282084     DFTA\n",
       "2282085      DPR\n",
       "2282086     NYPD\n",
       "2282087      DPR\n",
       "2282088      DPR\n",
       "2282089      DOF\n",
       "2282090      DPR\n",
       "2282091      DPR\n",
       "2282092      DPR\n",
       "Name: Agency, Length: 2282093, dtype: object"
      ]
     },
     "execution_count": 5,
     "metadata": {},
     "output_type": "execute_result"
    }
   ],
   "source": [
    "requests['Agency']"
   ]
  },
  {
   "cell_type": "code",
   "execution_count": 13,
   "metadata": {},
   "outputs": [
    {
     "data": {
      "text/plain": [
       "HPD           627973\n",
       "NYPD          578559\n",
       "DOT           318465\n",
       "DEP           185065\n",
       "DSNY          154869\n",
       "DPR            89889\n",
       "DOB            88385\n",
       "DOF            77800\n",
       "DOHMH          58792\n",
       "HRA            27325\n",
       "TLC            26476\n",
       "DCA            20335\n",
       "DFTA            9461\n",
       "FDNY            6896\n",
       "DHS             6517\n",
       "DOE             1636\n",
       "EDC             1503\n",
       "3-1-1           1291\n",
       "DOITT            430\n",
       "NYCEM            164\n",
       "OATH             118\n",
       "DOP               43\n",
       "CHALL             17\n",
       "MOVA              10\n",
       "OPS                9\n",
       "MOIA               8\n",
       "MOFTB              7\n",
       "NYCHA              7\n",
       "MOPD               5\n",
       "DOC                5\n",
       "OCME               4\n",
       "ACS                4\n",
       "FUND               3\n",
       "AJC                3\n",
       "LAW                3\n",
       "NYCSERVICE         2\n",
       "NYCOOA             2\n",
       "DCAS               2\n",
       "NYCPPF             2\n",
       "LPC                1\n",
       "CAU                1\n",
       "COIB               1\n",
       "SBS                1\n",
       "OPA                1\n",
       "CCRB               1\n",
       "MOC                1\n",
       "DYCD               1\n",
       "Name: Agency, dtype: int64"
      ]
     },
     "execution_count": 13,
     "metadata": {},
     "output_type": "execute_result"
    }
   ],
   "source": [
    "requests['Agency'].value_counts()"
   ]
  },
  {
   "cell_type": "code",
   "execution_count": null,
   "metadata": {
    "collapsed": true
   },
   "outputs": [],
   "source": [
    "requests['Agency'].value_counts()"
   ]
  },
  {
   "cell_type": "code",
   "execution_count": 14,
   "metadata": {
    "collapsed": true
   },
   "outputs": [],
   "source": [
    "NYPD = requests[requests['Agency'] == 'NYPD']"
   ]
  },
  {
   "cell_type": "code",
   "execution_count": 15,
   "metadata": {
    "collapsed": true
   },
   "outputs": [],
   "source": [
    "HPD = requests[requests['Agency'] == 'HPD']"
   ]
  },
  {
   "cell_type": "code",
   "execution_count": 20,
   "metadata": {},
   "outputs": [
    {
     "data": {
      "text/plain": [
       "Noise - Residential        207390\n",
       "Blocked Driveway           100569\n",
       "Illegal Parking             92434\n",
       "Noise - Street/Sidewalk     51631\n",
       "Noise - Commercial          43995\n",
       "Name: Complaint Type, dtype: int64"
      ]
     },
     "execution_count": 20,
     "metadata": {},
     "output_type": "execute_result"
    }
   ],
   "source": [
    "NYPD['Complaint Type'].value_counts().head()"
   ]
  },
  {
   "cell_type": "code",
   "execution_count": 21,
   "metadata": {},
   "outputs": [
    {
     "data": {
      "text/plain": [
       "HEAT/HOT WATER          225083\n",
       "UNSANITARY CONDITION     82740\n",
       "PAINT/PLASTER            69571\n",
       "PLUMBING                 55297\n",
       "DOOR/WINDOW              39926\n",
       "Name: Complaint Type, dtype: int64"
      ]
     },
     "execution_count": 21,
     "metadata": {},
     "output_type": "execute_result"
    }
   ],
   "source": [
    "HPD['Complaint Type'].value_counts().head()"
   ]
  },
  {
   "cell_type": "code",
   "execution_count": 22,
   "metadata": {},
   "outputs": [
    {
     "data": {
      "text/plain": [
       "Loud Music/Party    137591\n",
       "Banging/Pounding     51999\n",
       "Loud Talking         14010\n",
       "Loud Television       3790\n",
       "Name: Descriptor, dtype: int64"
      ]
     },
     "execution_count": 22,
     "metadata": {},
     "output_type": "execute_result"
    }
   ],
   "source": [
    "NYPD[NYPD['Complaint Type'] == 'Noise - Residential']['Descriptor'].value_counts().head()"
   ]
  },
  {
   "cell_type": "code",
   "execution_count": 24,
   "metadata": {
    "collapsed": true
   },
   "outputs": [],
   "source": [
    "requests['created_at'] = pd.to_datetime(requests['Created Date'], format = \"%m/%d/%Y %I:%M:%S %p\")"
   ]
  },
  {
   "cell_type": "code",
   "execution_count": 25,
   "metadata": {
    "collapsed": true
   },
   "outputs": [],
   "source": [
    "requests.set_index('created_at', inplace=True)"
   ]
  },
  {
   "cell_type": "code",
   "execution_count": 27,
   "metadata": {},
   "outputs": [
    {
     "data": {
      "text/html": [
       "<div>\n",
       "<style>\n",
       "    .dataframe thead tr:only-child th {\n",
       "        text-align: right;\n",
       "    }\n",
       "\n",
       "    .dataframe thead th {\n",
       "        text-align: left;\n",
       "    }\n",
       "\n",
       "    .dataframe tbody tr th {\n",
       "        vertical-align: top;\n",
       "    }\n",
       "</style>\n",
       "<table border=\"1\" class=\"dataframe\">\n",
       "  <thead>\n",
       "    <tr style=\"text-align: right;\">\n",
       "      <th></th>\n",
       "      <th>Unique Key</th>\n",
       "      <th>Created Date</th>\n",
       "      <th>Closed Date</th>\n",
       "      <th>Agency</th>\n",
       "      <th>Agency Name</th>\n",
       "      <th>Complaint Type</th>\n",
       "      <th>Descriptor</th>\n",
       "      <th>Location Type</th>\n",
       "      <th>Incident Zip</th>\n",
       "      <th>Incident Address</th>\n",
       "      <th>...</th>\n",
       "      <th>Bridge Highway Name</th>\n",
       "      <th>Bridge Highway Direction</th>\n",
       "      <th>Road Ramp</th>\n",
       "      <th>Bridge Highway Segment</th>\n",
       "      <th>Garage Lot Name</th>\n",
       "      <th>Ferry Direction</th>\n",
       "      <th>Ferry Terminal Name</th>\n",
       "      <th>Latitude</th>\n",
       "      <th>Longitude</th>\n",
       "      <th>Location</th>\n",
       "    </tr>\n",
       "    <tr>\n",
       "      <th>created_at</th>\n",
       "      <th></th>\n",
       "      <th></th>\n",
       "      <th></th>\n",
       "      <th></th>\n",
       "      <th></th>\n",
       "      <th></th>\n",
       "      <th></th>\n",
       "      <th></th>\n",
       "      <th></th>\n",
       "      <th></th>\n",
       "      <th></th>\n",
       "      <th></th>\n",
       "      <th></th>\n",
       "      <th></th>\n",
       "      <th></th>\n",
       "      <th></th>\n",
       "      <th></th>\n",
       "      <th></th>\n",
       "      <th></th>\n",
       "      <th></th>\n",
       "      <th></th>\n",
       "    </tr>\n",
       "  </thead>\n",
       "  <tbody>\n",
       "    <tr>\n",
       "      <th>2015-01-01</th>\n",
       "      <td>4178</td>\n",
       "      <td>4178</td>\n",
       "      <td>4135</td>\n",
       "      <td>4178</td>\n",
       "      <td>4178</td>\n",
       "      <td>4178</td>\n",
       "      <td>4169</td>\n",
       "      <td>3660</td>\n",
       "      <td>4072</td>\n",
       "      <td>3806</td>\n",
       "      <td>...</td>\n",
       "      <td>5</td>\n",
       "      <td>5</td>\n",
       "      <td>5</td>\n",
       "      <td>5</td>\n",
       "      <td>0</td>\n",
       "      <td>0</td>\n",
       "      <td>0</td>\n",
       "      <td>4055</td>\n",
       "      <td>4055</td>\n",
       "      <td>4055</td>\n",
       "    </tr>\n",
       "    <tr>\n",
       "      <th>2015-01-02</th>\n",
       "      <td>5338</td>\n",
       "      <td>5338</td>\n",
       "      <td>5229</td>\n",
       "      <td>5338</td>\n",
       "      <td>5338</td>\n",
       "      <td>5338</td>\n",
       "      <td>5311</td>\n",
       "      <td>4188</td>\n",
       "      <td>4974</td>\n",
       "      <td>4390</td>\n",
       "      <td>...</td>\n",
       "      <td>6</td>\n",
       "      <td>6</td>\n",
       "      <td>6</td>\n",
       "      <td>9</td>\n",
       "      <td>1</td>\n",
       "      <td>2</td>\n",
       "      <td>3</td>\n",
       "      <td>4805</td>\n",
       "      <td>4805</td>\n",
       "      <td>4805</td>\n",
       "    </tr>\n",
       "    <tr>\n",
       "      <th>2015-01-03</th>\n",
       "      <td>4139</td>\n",
       "      <td>4139</td>\n",
       "      <td>4012</td>\n",
       "      <td>4139</td>\n",
       "      <td>4139</td>\n",
       "      <td>4139</td>\n",
       "      <td>4128</td>\n",
       "      <td>3473</td>\n",
       "      <td>4014</td>\n",
       "      <td>3602</td>\n",
       "      <td>...</td>\n",
       "      <td>5</td>\n",
       "      <td>5</td>\n",
       "      <td>5</td>\n",
       "      <td>5</td>\n",
       "      <td>2</td>\n",
       "      <td>1</td>\n",
       "      <td>3</td>\n",
       "      <td>3994</td>\n",
       "      <td>3994</td>\n",
       "      <td>3994</td>\n",
       "    </tr>\n",
       "    <tr>\n",
       "      <th>2015-01-04</th>\n",
       "      <td>3867</td>\n",
       "      <td>3867</td>\n",
       "      <td>3767</td>\n",
       "      <td>3867</td>\n",
       "      <td>3867</td>\n",
       "      <td>3867</td>\n",
       "      <td>3854</td>\n",
       "      <td>3248</td>\n",
       "      <td>3725</td>\n",
       "      <td>3358</td>\n",
       "      <td>...</td>\n",
       "      <td>32</td>\n",
       "      <td>32</td>\n",
       "      <td>32</td>\n",
       "      <td>32</td>\n",
       "      <td>0</td>\n",
       "      <td>0</td>\n",
       "      <td>0</td>\n",
       "      <td>3701</td>\n",
       "      <td>3701</td>\n",
       "      <td>3701</td>\n",
       "    </tr>\n",
       "    <tr>\n",
       "      <th>2015-01-05</th>\n",
       "      <td>7123</td>\n",
       "      <td>7123</td>\n",
       "      <td>6953</td>\n",
       "      <td>7123</td>\n",
       "      <td>7123</td>\n",
       "      <td>7123</td>\n",
       "      <td>7102</td>\n",
       "      <td>5359</td>\n",
       "      <td>6453</td>\n",
       "      <td>5623</td>\n",
       "      <td>...</td>\n",
       "      <td>26</td>\n",
       "      <td>26</td>\n",
       "      <td>26</td>\n",
       "      <td>35</td>\n",
       "      <td>1</td>\n",
       "      <td>4</td>\n",
       "      <td>9</td>\n",
       "      <td>6124</td>\n",
       "      <td>6124</td>\n",
       "      <td>6124</td>\n",
       "    </tr>\n",
       "  </tbody>\n",
       "</table>\n",
       "<p>5 rows × 53 columns</p>\n",
       "</div>"
      ],
      "text/plain": [
       "            Unique Key  Created Date  Closed Date  Agency  Agency Name  \\\n",
       "created_at                                                               \n",
       "2015-01-01        4178          4178         4135    4178         4178   \n",
       "2015-01-02        5338          5338         5229    5338         5338   \n",
       "2015-01-03        4139          4139         4012    4139         4139   \n",
       "2015-01-04        3867          3867         3767    3867         3867   \n",
       "2015-01-05        7123          7123         6953    7123         7123   \n",
       "\n",
       "            Complaint Type  Descriptor  Location Type  Incident Zip  \\\n",
       "created_at                                                            \n",
       "2015-01-01            4178        4169           3660          4072   \n",
       "2015-01-02            5338        5311           4188          4974   \n",
       "2015-01-03            4139        4128           3473          4014   \n",
       "2015-01-04            3867        3854           3248          3725   \n",
       "2015-01-05            7123        7102           5359          6453   \n",
       "\n",
       "            Incident Address    ...     Bridge Highway Name  \\\n",
       "created_at                      ...                           \n",
       "2015-01-01              3806    ...                       5   \n",
       "2015-01-02              4390    ...                       6   \n",
       "2015-01-03              3602    ...                       5   \n",
       "2015-01-04              3358    ...                      32   \n",
       "2015-01-05              5623    ...                      26   \n",
       "\n",
       "            Bridge Highway Direction  Road Ramp  Bridge Highway Segment  \\\n",
       "created_at                                                                \n",
       "2015-01-01                         5          5                       5   \n",
       "2015-01-02                         6          6                       9   \n",
       "2015-01-03                         5          5                       5   \n",
       "2015-01-04                        32         32                      32   \n",
       "2015-01-05                        26         26                      35   \n",
       "\n",
       "            Garage Lot Name  Ferry Direction  Ferry Terminal Name  Latitude  \\\n",
       "created_at                                                                    \n",
       "2015-01-01                0                0                    0      4055   \n",
       "2015-01-02                1                2                    3      4805   \n",
       "2015-01-03                2                1                    3      3994   \n",
       "2015-01-04                0                0                    0      3701   \n",
       "2015-01-05                1                4                    9      6124   \n",
       "\n",
       "            Longitude  Location  \n",
       "created_at                       \n",
       "2015-01-01       4055      4055  \n",
       "2015-01-02       4805      4805  \n",
       "2015-01-03       3994      3994  \n",
       "2015-01-04       3701      3701  \n",
       "2015-01-05       6124      6124  \n",
       "\n",
       "[5 rows x 53 columns]"
      ]
     },
     "execution_count": 27,
     "metadata": {},
     "output_type": "execute_result"
    }
   ],
   "source": [
    "requests.resample('D').count().head()"
   ]
  },
  {
   "cell_type": "code",
   "execution_count": 28,
   "metadata": {},
   "outputs": [
    {
     "data": {
      "text/plain": [
       "<matplotlib.axes._subplots.AxesSubplot at 0x11438da58>"
      ]
     },
     "execution_count": 28,
     "metadata": {},
     "output_type": "execute_result"
    },
    {
     "data": {
      "image/png": "[encoded data removed]",
      "text/plain": [
       "<matplotlib.figure.Figure at 0x11482c470>"
      ]
     },
     "metadata": {},
     "output_type": "display_data"
    }
   ],
   "source": [
    "requests.groupby(requests.index.hour)['Created Date'].count().plot(figsize=(20,5))"
   ]
  },
  {
   "cell_type": "code",
   "execution_count": null,
   "metadata": {
    "collapsed": true
   },
   "outputs": [],
   "source": []
  },
  {
   "cell_type": "code",
   "execution_count": null,
   "metadata": {
    "collapsed": true
   },
   "outputs": [],
   "source": []
  }
 ],
 "metadata": {
  "kernelspec": {
   "display_name": "Python 3",
   "language": "python",
   "name": "python3"
  },
  "language_info": {
   "codemirror_mode": {
    "name": "ipython",
    "version": 3
   },
   "file_extension": ".py",
   "mimetype": "text/x-python",
   "name": "python",
   "nbconvert_exporter": "python",
   "pygments_lexer": "ipython3",
   "version": "3.6.1"
  }
 },
 "nbformat": 4,
 "nbformat_minor": 2
}
